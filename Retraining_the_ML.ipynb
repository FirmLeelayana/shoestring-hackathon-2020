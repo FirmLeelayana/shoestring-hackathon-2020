{
  "nbformat": 4,
  "nbformat_minor": 0,
  "metadata": {
    "colab": {
      "name": "Retraining the ML.ipynb",
      "provenance": []
    },
    "kernelspec": {
      "name": "python3",
      "display_name": "Python 3"
    }
  },
  "cells": [
    {
      "cell_type": "code",
      "metadata": {
        "id": "F6HC25ABCiha"
      },
      "source": [
        "# Install the necessary versions of open source libraries\n",
        "!pip3 install tensorflow==1.13.1\n",
        "!pip install imageai\n",
        "!pip3 install tensorflow-gpu==1.13.1\n",
        "!pip3 install keras==2.2.4\n",
        "!pip3 install numpy==1.16.1"
      ],
      "execution_count": null,
      "outputs": []
    },
    {
      "cell_type": "code",
      "metadata": {
        "id": "o_G4wbduCrid"
      },
      "source": [
        "import tensorflow as tf\n",
        "print(tf.__version__) # Check that this is version 1.13.1"
      ],
      "execution_count": null,
      "outputs": []
    },
    {
      "cell_type": "code",
      "metadata": {
        "id": "6_IgoLKICzEn"
      },
      "source": [
        "# Upload your dataset with training and validation data then unzip it\n",
        "!unzip \"/content/BottleImages.zip\" # Here, zip file is BottleImages.zip"
      ],
      "execution_count": null,
      "outputs": []
    },
    {
      "cell_type": "code",
      "metadata": {
        "id": "JJxGxNpiCz1y"
      },
      "source": [
        "# Run this to download pre-trained yolo weights\n",
        "!wget https://github.com/OlafenwaMoses/ImageAI/releases/download/essential-v4/pretrained-yolov3.h5"
      ],
      "execution_count": null,
      "outputs": []
    },
    {
      "cell_type": "code",
      "metadata": {
        "id": "IIkRsHeCC5lj"
      },
      "source": [
        "# Run this cell to train the ML on your customised dataset\n",
        "from imageai.Detection.Custom import DetectionModelTrainer\n",
        "\n",
        "trainer = DetectionModelTrainer()\n",
        "trainer.setModelTypeAsYOLOv3()\n",
        "trainer.setDataDirectory(data_directory=\"BottleImages\")\n",
        "trainer.setTrainConfig(object_names_array=[\"bottle\",\"other\"], batch_size=8, num_experiments=50, train_from_pretrained_model=\"pretrained-yolov3.h5\")\n",
        "trainer.trainModel()\n",
        "\n",
        "# Download your weights and json file in your unzipped file"
      ],
      "execution_count": null,
      "outputs": []
    }
  ]
}